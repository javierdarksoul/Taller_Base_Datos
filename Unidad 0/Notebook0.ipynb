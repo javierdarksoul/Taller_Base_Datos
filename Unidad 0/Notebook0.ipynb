{
 "cells": [
  {
   "cell_type": "markdown",
   "metadata": {},
   "source": [
    "# Probar el ambiente de trabajo #"
   ]
  },
  {
   "cell_type": "markdown",
   "metadata": {},
   "source": [
    "Para instalar Python3, IPython, Jupyter y librerías de Ciencias de los Datos, pueden referise a: https://github.com/magister-informatica-uach/INFO147/blob/master/unidad1/clase1.ipynb\n",
    "\n",
    "Además necesitamos instalar las librerías spaCy, SciKit-Learn, Gensim y OpenCV3. Desde un terminal:\n",
    "- Spacy:\n",
    "\n",
    "`pip3 install spacy --user`\n",
    "\n",
    "`python3 -m spacy download es_core_news_sm` #instala modelos para el lenguaje español\n",
    "\n",
    "- SciKit-Learn:\n",
    "\n",
    "`pip3 install -U scikit-learn`\n",
    "\n",
    "- Gensim:\n",
    "\n",
    "`pip3 install -U gensim`\n",
    "\n",
    "- OpenCV3:\n",
    "\n",
    "Para Ubuntu version >= 17.x\n",
    "\n",
    "`pip3 install python3-opencv --user`\n",
    "\n",
    "Para versiones anteriores: https://www.pyimagesearch.com/2016/10/24/ubuntu-16-04-how-to-install-opencv/\n"
   ]
  },
  {
   "cell_type": "markdown",
   "metadata": {},
   "source": [
    "<b>Verificar qué versión de Python está utilizada por Jupyter:</b>"
   ]
  },
  {
   "cell_type": "code",
   "execution_count": 1,
   "metadata": {},
   "outputs": [
    {
     "name": "stdout",
     "output_type": "stream",
     "text": [
      "sys.version_info(major=3, minor=5, micro=2, releaselevel='final', serial=0)\n",
      "3.5.2 (default, Nov 12 2018, 13:43:14) \n",
      "[GCC 5.4.0 20160609]\n"
     ]
    }
   ],
   "source": [
    "import sys\n",
    "print(sys.version_info)\n",
    "print(sys.version)"
   ]
  },
  {
   "cell_type": "markdown",
   "metadata": {},
   "source": [
    "<b>Probar la instalación de la librería spaCy:</b>"
   ]
  },
  {
   "cell_type": "code",
   "execution_count": 3,
   "metadata": {},
   "outputs": [
    {
     "name": "stdout",
     "output_type": "stream",
     "text": [
      "Cuprum Cuprum PROPN PROPN___ nsubj Xxxxx True False\n",
      "confirma confirmar VERB VERB__Mood=Ind|Number=Sing|Person=3|Tense=Pres|VerbForm=Fin ROOT xxxx True False\n",
      "que que SCONJ SCONJ___ mark xxx True True\n",
      "sus su DET DET__Number=Plur|Person=3|Poss=Yes|PronType=Prs det xxx True True\n",
      "sistemas sistema NOUN NOUN__Gender=Masc|Number=Plur nsubj xxxx True False\n",
      "de de ADP ADP__AdpType=Prep case xx True True\n",
      "seguridad seguridad NOUN NOUN__Gender=Fem|Number=Sing nmod xxxx True False\n",
      "fueron ser AUX AUX__Mood=Ind|Number=Plur|Person=3|Tense=Past|VerbForm=Fin aux xxxx True True\n",
      "hackeados hackeados VERB VERB__Gender=Masc|Number=Plur|Tense=Past|VerbForm=Part aux xxxx True False\n",
      "traspasando traspasar VERB VERB__VerbForm=Ger ccomp xxxx True False\n",
      "los lo DET DET__Definite=Def|Gender=Masc|Number=Plur|PronType=Art det xxx True True\n",
      "fondos fondo NOUN NOUN__Gender=Masc|Number=Plur obj xxxx True False\n",
      "de de ADP ADP__AdpType=Prep case xx True True\n",
      "algunos alguno DET DET__Gender=Masc|Number=Plur|PronType=Ind det xxxx True True\n",
      "clientes cliente NOUN NOUN__Number=Plur nmod xxxx True False\n"
     ]
    }
   ],
   "source": [
    "import spacy\n",
    "\n",
    "nlp = spacy.load('es_core_news_sm')\n",
    "doc = nlp(u'Cuprum confirma que sus sistemas de seguridad fueron hackeados traspasando los fondos de algunos clientes')\n",
    "\n",
    "for token in doc:\n",
    "    print(token.text, token.lemma_, token.pos_, token.tag_, token.dep_,\n",
    "            token.shape_, token.is_alpha, token.is_stop)\n"
   ]
  },
  {
   "cell_type": "markdown",
   "metadata": {},
   "source": [
    "<b>Probar la instalación de Scikit-Learn:</b>"
   ]
  },
  {
   "cell_type": "code",
   "execution_count": 2,
   "metadata": {},
   "outputs": [
    {
     "name": "stdout",
     "output_type": "stream",
     "text": [
      "[[12  0  0]\n",
      " [ 0  8  0]\n",
      " [ 0  1  9]]\n",
      "                 precision    recall  f1-score   support\n",
      "\n",
      "    Iris-setosa       1.00      1.00      1.00        12\n",
      "Iris-versicolor       0.89      1.00      0.94         8\n",
      " Iris-virginica       1.00      0.90      0.95        10\n",
      "\n",
      "      micro avg       0.97      0.97      0.97        30\n",
      "      macro avg       0.96      0.97      0.96        30\n",
      "   weighted avg       0.97      0.97      0.97        30\n",
      "\n"
     ]
    },
    {
     "data": {
      "text/plain": [
       "Text(0, 0.5, 'Mean Error')"
      ]
     },
     "execution_count": 2,
     "metadata": {},
     "output_type": "execute_result"
    },
    {
     "data": {
      "image/png": "[encoded data removed]",
      "text/plain": [
       "<Figure size 864x432 with 1 Axes>"
      ]
     },
     "metadata": {
      "needs_background": "light"
     },
     "output_type": "display_data"
    }
   ],
   "source": [
    "import numpy as np  \n",
    "import matplotlib.pyplot as plt  \n",
    "import pandas as pd\n",
    "\n",
    "url = \"https://archive.ics.uci.edu/ml/machine-learning-databases/iris/iris.data\"\n",
    "\n",
    "# Assign colum names to the dataset\n",
    "names = ['sepal-length', 'sepal-width', 'petal-length', 'petal-width', 'Class']\n",
    "\n",
    "# Read dataset to pandas dataframe\n",
    "dataset = pd.read_csv(url, names=names)\n",
    "\n",
    "X = dataset.iloc[:, :-1].values  \n",
    "y = dataset.iloc[:, 4].values\n",
    "\n",
    "from sklearn.model_selection import train_test_split  \n",
    "X_train, X_test, y_train, y_test = train_test_split(X, y, test_size=0.20)\n",
    "\n",
    "from sklearn.preprocessing import StandardScaler  \n",
    "scaler = StandardScaler()  \n",
    "scaler.fit(X_train)\n",
    "\n",
    "X_train = scaler.transform(X_train)  \n",
    "X_test = scaler.transform(X_test)\n",
    "\n",
    "from sklearn.neighbors import KNeighborsClassifier  \n",
    "classifier = KNeighborsClassifier(n_neighbors=5)  \n",
    "classifier.fit(X_train, y_train)\n",
    "\n",
    "y_pred = classifier.predict(X_test)\n",
    "\n",
    "from sklearn.metrics import classification_report, confusion_matrix  \n",
    "print(confusion_matrix(y_test, y_pred))  \n",
    "print(classification_report(y_test, y_pred))\n",
    "\n",
    "error = []\n",
    "\n",
    "# Calculating error for K values between 1 and 40\n",
    "for i in range(1, 40):  \n",
    "    knn = KNeighborsClassifier(n_neighbors=i)\n",
    "    knn.fit(X_train, y_train)\n",
    "    pred_i = knn.predict(X_test)\n",
    "    error.append(np.mean(pred_i != y_test))\n",
    "\n",
    "plt.figure(figsize=(12, 6))  \n",
    "plt.plot(range(1, 40), error, color='red', linestyle='dashed', marker='o',  \n",
    "         markerfacecolor='blue', markersize=10)\n",
    "plt.title('Error Rate K Value')  \n",
    "plt.xlabel('K Value')  \n",
    "plt.ylabel('Mean Error')"
   ]
  },
  {
   "cell_type": "markdown",
   "metadata": {},
   "source": [
    "<b>Probar la instalación de Gensim:</b>"
   ]
  },
  {
   "cell_type": "code",
   "execution_count": 4,
   "metadata": {},
   "outputs": [
    {
     "name": "stdout",
     "output_type": "stream",
     "text": [
      "[(0, 0.8075244024440723), (4, 0.5898341626740045)]\n"
     ]
    }
   ],
   "source": [
    "from gensim import models\n",
    "\n",
    "corpus = [[(0, 1.0), (1, 1.0), (2, 1.0)],\n",
    "[(2, 1.0), (3, 1.0), (4, 1.0), (5, 1.0), (6, 1.0), (8, 1.0)],\n",
    "[(1, 1.0), (3, 1.0), (4, 1.0), (7, 1.0)],\n",
    "[(0, 1.0), (4, 2.0), (7, 1.0)],\n",
    "[(3, 1.0), (5, 1.0), (6, 1.0)],\n",
    "[(9, 1.0)],\n",
    "[(9, 1.0), (10, 1.0)],\n",
    "[(9, 1.0), (10, 1.0), (11, 1.0)],\n",
    "[(8, 1.0), (10, 1.0), (11, 1.0)]]\n",
    "\n",
    "tfidf = models.TfidfModel(corpus)\n",
    "\n",
    "vec = [(0, 1), (4, 1)]\n",
    "\n",
    "print(tfidf[vec])"
   ]
  },
  {
   "cell_type": "markdown",
   "metadata": {},
   "source": [
    "<b>Probar la instalación de OpenCV3:</b>"
   ]
  },
  {
   "cell_type": "code",
   "execution_count": null,
   "metadata": {},
   "outputs": [],
   "source": [
    "import cv2\n",
    "from matplotlib import pyplot as plt\n",
    "\n",
    "%matplotlib inline\n",
    "\n",
    "img = cv2.imread(\"./input.jpg\")\n",
    "\n",
    "plt.imshow(img)\n",
    "\n",
    "#cv2.imshow('Input',img)\n",
    "#cv2.waitKey()"
   ]
  },
  {
   "cell_type": "code",
   "execution_count": null,
   "metadata": {},
   "outputs": [],
   "source": []
  },
  {
   "cell_type": "code",
   "execution_count": null,
   "metadata": {},
   "outputs": [],
   "source": []
  }
 ],
 "metadata": {
  "kernelspec": {
   "display_name": "Python 3",
   "language": "python",
   "name": "python3"
  },
  "language_info": {
   "codemirror_mode": {
    "name": "ipython",
    "version": 3
   },
   "file_extension": ".py",
   "mimetype": "text/x-python",
   "name": "python",
   "nbconvert_exporter": "python",
   "pygments_lexer": "ipython3",
   "version": "3.5.2"
  }
 },
 "nbformat": 4,
 "nbformat_minor": 2
}
